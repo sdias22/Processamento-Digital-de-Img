{
  "nbformat": 4,
  "nbformat_minor": 0,
  "metadata": {
    "colab": {
      "provenance": [],
      "include_colab_link": true
    },
    "kernelspec": {
      "name": "python3",
      "display_name": "Python 3"
    },
    "language_info": {
      "name": "python"
    }
  },
  "cells": [
    {
      "cell_type": "markdown",
      "metadata": {
        "id": "view-in-github",
        "colab_type": "text"
      },
      "source": [
        "<a href=\"https://colab.research.google.com/github/sdias22/Processamento-Digital-de-Img/blob/main/pratica02_turma_a1.ipynb\" target=\"_parent\"><img src=\"https://colab.research.google.com/assets/colab-badge.svg\" alt=\"Open In Colab\"/></a>"
      ]
    },
    {
      "cell_type": "markdown",
      "source": [
        "Carregando uma base de dados:\n",
        "* Dados imobiliários: https://drive.google.com/file/d/1DVaPIcCzupbIY3U9yokWH0mnaTBRh2Ab/view?usp=sharing\n",
        "* Template para carregar arquivo compartilhado: https://drive.google.com/u/3/uc?id=&export=download"
      ],
      "metadata": {
        "id": "xInzLw77PTuP"
      }
    },
    {
      "cell_type": "code",
      "execution_count": null,
      "metadata": {
        "id": "GeRdkHNyKGl_"
      },
      "outputs": [],
      "source": [
        "import numpy as np\n",
        "import pandas as pd\n",
        "#1DVaPIcCzupbIY3U9yokWH0mnaTBRh2Ab\n",
        "df = pd.read_csv('https://drive.google.com/u/3/uc?id=1DVaPIcCzupbIY3U9yokWH0mnaTBRh2Ab&export=download')"
      ]
    },
    {
      "cell_type": "markdown",
      "source": [
        "Observando a base com shape, head e describe:"
      ],
      "metadata": {
        "id": "L_a777u5UPix"
      }
    },
    {
      "cell_type": "code",
      "source": [
        "df.shape\n",
        "df.columns"
      ],
      "metadata": {
        "id": "Yys_CjTa9_Fk",
        "colab": {
          "base_uri": "https://localhost:8080/"
        },
        "outputId": "6841d95c-df13-4d43-888f-6d9225286c69"
      },
      "execution_count": null,
      "outputs": [
        {
          "output_type": "execute_result",
          "data": {
            "text/plain": [
              "Index(['Suburb', 'Address', 'Rooms', 'Type', 'Price', 'Method', 'SellerG',\n",
              "       'Date', 'Distance', 'Postcode', 'Bedroom2', 'Bathroom', 'Car',\n",
              "       'Landsize', 'BuildingArea', 'YearBuilt', 'CouncilArea', 'Lattitude',\n",
              "       'Longtitude', 'Regionname', 'Propertycount'],\n",
              "      dtype='object')"
            ]
          },
          "metadata": {},
          "execution_count": 15
        }
      ]
    },
    {
      "cell_type": "markdown",
      "source": [
        "Escolhendo as colunas e separando características descritivas da característica alvo:"
      ],
      "metadata": {
        "id": "1Ri3HKdGRTGi"
      }
    },
    {
      "cell_type": "code",
      "source": [
        "sel_columns = ['Rooms', 'Type', 'Bathroom', 'Car', 'Landsize', 'Lattitude', 'Longtitude']\n",
        "X = df[sel_columns]\n",
        "y = df['Price']"
      ],
      "metadata": {
        "id": "UzbcV-UDPHDH"
      },
      "execution_count": null,
      "outputs": []
    },
    {
      "cell_type": "code",
      "source": [
        "y.shape"
      ],
      "metadata": {
        "colab": {
          "base_uri": "https://localhost:8080/"
        },
        "id": "YBxInCWWuPVH",
        "outputId": "4b86de28-584e-4f3b-e462-818530edffc5"
      },
      "execution_count": null,
      "outputs": [
        {
          "output_type": "execute_result",
          "data": {
            "text/plain": [
              "(13580,)"
            ]
          },
          "metadata": {},
          "execution_count": 17
        }
      ]
    },
    {
      "cell_type": "markdown",
      "source": [
        "Tratar atributos categóricos:"
      ],
      "metadata": {
        "id": "GziGo4QducRT"
      }
    },
    {
      "cell_type": "code",
      "source": [
        "X.head()\n",
        "X.Type.value_counts()\n",
        "type_dummies = pd.get_dummies(X.Type, drop_first = True)\n",
        "type_dummies.head()\n",
        "X = X.drop('Type', axis = 1)\n",
        "X = X.assign(**type_dummies)\n",
        "X.head()"
      ],
      "metadata": {
        "colab": {
          "base_uri": "https://localhost:8080/",
          "height": 206
        },
        "id": "DNRBWX88uf1U",
        "outputId": "392aa6fa-2abb-4061-d2d9-755a1414bc82"
      },
      "execution_count": null,
      "outputs": [
        {
          "output_type": "execute_result",
          "data": {
            "text/plain": [
              "   Rooms  Bathroom  Car  Landsize  Lattitude  Longtitude  t  u\n",
              "0      2       1.0  1.0     202.0   -37.7996    144.9984  0  0\n",
              "1      2       1.0  0.0     156.0   -37.8079    144.9934  0  0\n",
              "2      3       2.0  0.0     134.0   -37.8093    144.9944  0  0\n",
              "3      3       2.0  1.0      94.0   -37.7969    144.9969  0  0\n",
              "4      4       1.0  2.0     120.0   -37.8072    144.9941  0  0"
            ],
            "text/html": [
              "\n",
              "  <div id=\"df-7410ddd9-93bf-4690-94bb-848edf16b984\" class=\"colab-df-container\">\n",
              "    <div>\n",
              "<style scoped>\n",
              "    .dataframe tbody tr th:only-of-type {\n",
              "        vertical-align: middle;\n",
              "    }\n",
              "\n",
              "    .dataframe tbody tr th {\n",
              "        vertical-align: top;\n",
              "    }\n",
              "\n",
              "    .dataframe thead th {\n",
              "        text-align: right;\n",
              "    }\n",
              "</style>\n",
              "<table border=\"1\" class=\"dataframe\">\n",
              "  <thead>\n",
              "    <tr style=\"text-align: right;\">\n",
              "      <th></th>\n",
              "      <th>Rooms</th>\n",
              "      <th>Bathroom</th>\n",
              "      <th>Car</th>\n",
              "      <th>Landsize</th>\n",
              "      <th>Lattitude</th>\n",
              "      <th>Longtitude</th>\n",
              "      <th>t</th>\n",
              "      <th>u</th>\n",
              "    </tr>\n",
              "  </thead>\n",
              "  <tbody>\n",
              "    <tr>\n",
              "      <th>0</th>\n",
              "      <td>2</td>\n",
              "      <td>1.0</td>\n",
              "      <td>1.0</td>\n",
              "      <td>202.0</td>\n",
              "      <td>-37.7996</td>\n",
              "      <td>144.9984</td>\n",
              "      <td>0</td>\n",
              "      <td>0</td>\n",
              "    </tr>\n",
              "    <tr>\n",
              "      <th>1</th>\n",
              "      <td>2</td>\n",
              "      <td>1.0</td>\n",
              "      <td>0.0</td>\n",
              "      <td>156.0</td>\n",
              "      <td>-37.8079</td>\n",
              "      <td>144.9934</td>\n",
              "      <td>0</td>\n",
              "      <td>0</td>\n",
              "    </tr>\n",
              "    <tr>\n",
              "      <th>2</th>\n",
              "      <td>3</td>\n",
              "      <td>2.0</td>\n",
              "      <td>0.0</td>\n",
              "      <td>134.0</td>\n",
              "      <td>-37.8093</td>\n",
              "      <td>144.9944</td>\n",
              "      <td>0</td>\n",
              "      <td>0</td>\n",
              "    </tr>\n",
              "    <tr>\n",
              "      <th>3</th>\n",
              "      <td>3</td>\n",
              "      <td>2.0</td>\n",
              "      <td>1.0</td>\n",
              "      <td>94.0</td>\n",
              "      <td>-37.7969</td>\n",
              "      <td>144.9969</td>\n",
              "      <td>0</td>\n",
              "      <td>0</td>\n",
              "    </tr>\n",
              "    <tr>\n",
              "      <th>4</th>\n",
              "      <td>4</td>\n",
              "      <td>1.0</td>\n",
              "      <td>2.0</td>\n",
              "      <td>120.0</td>\n",
              "      <td>-37.8072</td>\n",
              "      <td>144.9941</td>\n",
              "      <td>0</td>\n",
              "      <td>0</td>\n",
              "    </tr>\n",
              "  </tbody>\n",
              "</table>\n",
              "</div>\n",
              "    <div class=\"colab-df-buttons\">\n",
              "\n",
              "  <div class=\"colab-df-container\">\n",
              "    <button class=\"colab-df-convert\" onclick=\"convertToInteractive('df-7410ddd9-93bf-4690-94bb-848edf16b984')\"\n",
              "            title=\"Convert this dataframe to an interactive table.\"\n",
              "            style=\"display:none;\">\n",
              "\n",
              "  <svg xmlns=\"http://www.w3.org/2000/svg\" height=\"24px\" viewBox=\"0 -960 960 960\">\n",
              "    <path d=\"M120-120v-720h720v720H120Zm60-500h600v-160H180v160Zm220 220h160v-160H400v160Zm0 220h160v-160H400v160ZM180-400h160v-160H180v160Zm440 0h160v-160H620v160ZM180-180h160v-160H180v160Zm440 0h160v-160H620v160Z\"/>\n",
              "  </svg>\n",
              "    </button>\n",
              "\n",
              "  <style>\n",
              "    .colab-df-container {\n",
              "      display:flex;\n",
              "      gap: 12px;\n",
              "    }\n",
              "\n",
              "    .colab-df-convert {\n",
              "      background-color: #E8F0FE;\n",
              "      border: none;\n",
              "      border-radius: 50%;\n",
              "      cursor: pointer;\n",
              "      display: none;\n",
              "      fill: #1967D2;\n",
              "      height: 32px;\n",
              "      padding: 0 0 0 0;\n",
              "      width: 32px;\n",
              "    }\n",
              "\n",
              "    .colab-df-convert:hover {\n",
              "      background-color: #E2EBFA;\n",
              "      box-shadow: 0px 1px 2px rgba(60, 64, 67, 0.3), 0px 1px 3px 1px rgba(60, 64, 67, 0.15);\n",
              "      fill: #174EA6;\n",
              "    }\n",
              "\n",
              "    .colab-df-buttons div {\n",
              "      margin-bottom: 4px;\n",
              "    }\n",
              "\n",
              "    [theme=dark] .colab-df-convert {\n",
              "      background-color: #3B4455;\n",
              "      fill: #D2E3FC;\n",
              "    }\n",
              "\n",
              "    [theme=dark] .colab-df-convert:hover {\n",
              "      background-color: #434B5C;\n",
              "      box-shadow: 0px 1px 3px 1px rgba(0, 0, 0, 0.15);\n",
              "      filter: drop-shadow(0px 1px 2px rgba(0, 0, 0, 0.3));\n",
              "      fill: #FFFFFF;\n",
              "    }\n",
              "  </style>\n",
              "\n",
              "    <script>\n",
              "      const buttonEl =\n",
              "        document.querySelector('#df-7410ddd9-93bf-4690-94bb-848edf16b984 button.colab-df-convert');\n",
              "      buttonEl.style.display =\n",
              "        google.colab.kernel.accessAllowed ? 'block' : 'none';\n",
              "\n",
              "      async function convertToInteractive(key) {\n",
              "        const element = document.querySelector('#df-7410ddd9-93bf-4690-94bb-848edf16b984');\n",
              "        const dataTable =\n",
              "          await google.colab.kernel.invokeFunction('convertToInteractive',\n",
              "                                                    [key], {});\n",
              "        if (!dataTable) return;\n",
              "\n",
              "        const docLinkHtml = 'Like what you see? Visit the ' +\n",
              "          '<a target=\"_blank\" href=https://colab.research.google.com/notebooks/data_table.ipynb>data table notebook</a>'\n",
              "          + ' to learn more about interactive tables.';\n",
              "        element.innerHTML = '';\n",
              "        dataTable['output_type'] = 'display_data';\n",
              "        await google.colab.output.renderOutput(dataTable, element);\n",
              "        const docLink = document.createElement('div');\n",
              "        docLink.innerHTML = docLinkHtml;\n",
              "        element.appendChild(docLink);\n",
              "      }\n",
              "    </script>\n",
              "  </div>\n",
              "\n",
              "\n",
              "<div id=\"df-315aff7f-f3bb-4ddf-a595-ec81719c4401\">\n",
              "  <button class=\"colab-df-quickchart\" onclick=\"quickchart('df-315aff7f-f3bb-4ddf-a595-ec81719c4401')\"\n",
              "            title=\"Suggest charts\"\n",
              "            style=\"display:none;\">\n",
              "\n",
              "<svg xmlns=\"http://www.w3.org/2000/svg\" height=\"24px\"viewBox=\"0 0 24 24\"\n",
              "     width=\"24px\">\n",
              "    <g>\n",
              "        <path d=\"M19 3H5c-1.1 0-2 .9-2 2v14c0 1.1.9 2 2 2h14c1.1 0 2-.9 2-2V5c0-1.1-.9-2-2-2zM9 17H7v-7h2v7zm4 0h-2V7h2v10zm4 0h-2v-4h2v4z\"/>\n",
              "    </g>\n",
              "</svg>\n",
              "  </button>\n",
              "\n",
              "<style>\n",
              "  .colab-df-quickchart {\n",
              "      --bg-color: #E8F0FE;\n",
              "      --fill-color: #1967D2;\n",
              "      --hover-bg-color: #E2EBFA;\n",
              "      --hover-fill-color: #174EA6;\n",
              "      --disabled-fill-color: #AAA;\n",
              "      --disabled-bg-color: #DDD;\n",
              "  }\n",
              "\n",
              "  [theme=dark] .colab-df-quickchart {\n",
              "      --bg-color: #3B4455;\n",
              "      --fill-color: #D2E3FC;\n",
              "      --hover-bg-color: #434B5C;\n",
              "      --hover-fill-color: #FFFFFF;\n",
              "      --disabled-bg-color: #3B4455;\n",
              "      --disabled-fill-color: #666;\n",
              "  }\n",
              "\n",
              "  .colab-df-quickchart {\n",
              "    background-color: var(--bg-color);\n",
              "    border: none;\n",
              "    border-radius: 50%;\n",
              "    cursor: pointer;\n",
              "    display: none;\n",
              "    fill: var(--fill-color);\n",
              "    height: 32px;\n",
              "    padding: 0;\n",
              "    width: 32px;\n",
              "  }\n",
              "\n",
              "  .colab-df-quickchart:hover {\n",
              "    background-color: var(--hover-bg-color);\n",
              "    box-shadow: 0 1px 2px rgba(60, 64, 67, 0.3), 0 1px 3px 1px rgba(60, 64, 67, 0.15);\n",
              "    fill: var(--button-hover-fill-color);\n",
              "  }\n",
              "\n",
              "  .colab-df-quickchart-complete:disabled,\n",
              "  .colab-df-quickchart-complete:disabled:hover {\n",
              "    background-color: var(--disabled-bg-color);\n",
              "    fill: var(--disabled-fill-color);\n",
              "    box-shadow: none;\n",
              "  }\n",
              "\n",
              "  .colab-df-spinner {\n",
              "    border: 2px solid var(--fill-color);\n",
              "    border-color: transparent;\n",
              "    border-bottom-color: var(--fill-color);\n",
              "    animation:\n",
              "      spin 1s steps(1) infinite;\n",
              "  }\n",
              "\n",
              "  @keyframes spin {\n",
              "    0% {\n",
              "      border-color: transparent;\n",
              "      border-bottom-color: var(--fill-color);\n",
              "      border-left-color: var(--fill-color);\n",
              "    }\n",
              "    20% {\n",
              "      border-color: transparent;\n",
              "      border-left-color: var(--fill-color);\n",
              "      border-top-color: var(--fill-color);\n",
              "    }\n",
              "    30% {\n",
              "      border-color: transparent;\n",
              "      border-left-color: var(--fill-color);\n",
              "      border-top-color: var(--fill-color);\n",
              "      border-right-color: var(--fill-color);\n",
              "    }\n",
              "    40% {\n",
              "      border-color: transparent;\n",
              "      border-right-color: var(--fill-color);\n",
              "      border-top-color: var(--fill-color);\n",
              "    }\n",
              "    60% {\n",
              "      border-color: transparent;\n",
              "      border-right-color: var(--fill-color);\n",
              "    }\n",
              "    80% {\n",
              "      border-color: transparent;\n",
              "      border-right-color: var(--fill-color);\n",
              "      border-bottom-color: var(--fill-color);\n",
              "    }\n",
              "    90% {\n",
              "      border-color: transparent;\n",
              "      border-bottom-color: var(--fill-color);\n",
              "    }\n",
              "  }\n",
              "</style>\n",
              "\n",
              "  <script>\n",
              "    async function quickchart(key) {\n",
              "      const quickchartButtonEl =\n",
              "        document.querySelector('#' + key + ' button');\n",
              "      quickchartButtonEl.disabled = true;  // To prevent multiple clicks.\n",
              "      quickchartButtonEl.classList.add('colab-df-spinner');\n",
              "      try {\n",
              "        const charts = await google.colab.kernel.invokeFunction(\n",
              "            'suggestCharts', [key], {});\n",
              "      } catch (error) {\n",
              "        console.error('Error during call to suggestCharts:', error);\n",
              "      }\n",
              "      quickchartButtonEl.classList.remove('colab-df-spinner');\n",
              "      quickchartButtonEl.classList.add('colab-df-quickchart-complete');\n",
              "    }\n",
              "    (() => {\n",
              "      let quickchartButtonEl =\n",
              "        document.querySelector('#df-315aff7f-f3bb-4ddf-a595-ec81719c4401 button');\n",
              "      quickchartButtonEl.style.display =\n",
              "        google.colab.kernel.accessAllowed ? 'block' : 'none';\n",
              "    })();\n",
              "  </script>\n",
              "</div>\n",
              "\n",
              "    </div>\n",
              "  </div>\n"
            ],
            "application/vnd.google.colaboratory.intrinsic+json": {
              "type": "dataframe",
              "variable_name": "X",
              "summary": "{\n  \"name\": \"X\",\n  \"rows\": 13580,\n  \"fields\": [\n    {\n      \"column\": \"Rooms\",\n      \"properties\": {\n        \"dtype\": \"number\",\n        \"std\": 0,\n        \"min\": 1,\n        \"max\": 10,\n        \"num_unique_values\": 9,\n        \"samples\": [\n          7,\n          3,\n          5\n        ],\n        \"semantic_type\": \"\",\n        \"description\": \"\"\n      }\n    },\n    {\n      \"column\": \"Bathroom\",\n      \"properties\": {\n        \"dtype\": \"number\",\n        \"std\": 0.6917117224588402,\n        \"min\": 0.0,\n        \"max\": 8.0,\n        \"num_unique_values\": 9,\n        \"samples\": [\n          6.0,\n          2.0,\n          7.0\n        ],\n        \"semantic_type\": \"\",\n        \"description\": \"\"\n      }\n    },\n    {\n      \"column\": \"Car\",\n      \"properties\": {\n        \"dtype\": \"number\",\n        \"std\": 0.9626335192456305,\n        \"min\": 0.0,\n        \"max\": 10.0,\n        \"num_unique_values\": 11,\n        \"samples\": [\n          4.0,\n          1.0,\n          9.0\n        ],\n        \"semantic_type\": \"\",\n        \"description\": \"\"\n      }\n    },\n    {\n      \"column\": \"Landsize\",\n      \"properties\": {\n        \"dtype\": \"number\",\n        \"std\": 3990.6692411090316,\n        \"min\": 0.0,\n        \"max\": 433014.0,\n        \"num_unique_values\": 1448,\n        \"samples\": [\n          3037.0,\n          517.0,\n          59.0\n        ],\n        \"semantic_type\": \"\",\n        \"description\": \"\"\n      }\n    },\n    {\n      \"column\": \"Lattitude\",\n      \"properties\": {\n        \"dtype\": \"number\",\n        \"std\": 0.07925982260355399,\n        \"min\": -38.18255,\n        \"max\": -37.40853,\n        \"num_unique_values\": 6503,\n        \"samples\": [\n          -37.74192,\n          -37.7828,\n          -37.83015\n        ],\n        \"semantic_type\": \"\",\n        \"description\": \"\"\n      }\n    },\n    {\n      \"column\": \"Longtitude\",\n      \"properties\": {\n        \"dtype\": \"number\",\n        \"std\": 0.10391556140737544,\n        \"min\": 144.43181,\n        \"max\": 145.52635,\n        \"num_unique_values\": 7063,\n        \"samples\": [\n          144.72492,\n          145.0138,\n          144.9326\n        ],\n        \"semantic_type\": \"\",\n        \"description\": \"\"\n      }\n    },\n    {\n      \"column\": \"t\",\n      \"properties\": {\n        \"dtype\": \"uint8\",\n        \"num_unique_values\": 2,\n        \"samples\": [\n          1,\n          0\n        ],\n        \"semantic_type\": \"\",\n        \"description\": \"\"\n      }\n    },\n    {\n      \"column\": \"u\",\n      \"properties\": {\n        \"dtype\": \"uint8\",\n        \"num_unique_values\": 2,\n        \"samples\": [\n          1,\n          0\n        ],\n        \"semantic_type\": \"\",\n        \"description\": \"\"\n      }\n    }\n  ]\n}"
            }
          },
          "metadata": {},
          "execution_count": 18
        }
      ]
    },
    {
      "cell_type": "markdown",
      "source": [
        "Verificando valores ausentes:"
      ],
      "metadata": {
        "id": "yxmw44r3PJaT"
      }
    },
    {
      "cell_type": "code",
      "source": [
        "X.isnull().sum()"
      ],
      "metadata": {
        "id": "sjkUZFWkQGAw",
        "colab": {
          "base_uri": "https://localhost:8080/"
        },
        "outputId": "2a3245b7-7909-41bd-df3b-abfe678e7ac6"
      },
      "execution_count": null,
      "outputs": [
        {
          "output_type": "execute_result",
          "data": {
            "text/plain": [
              "Rooms          0\n",
              "Bathroom       0\n",
              "Car           62\n",
              "Landsize       0\n",
              "Lattitude      0\n",
              "Longtitude     0\n",
              "t              0\n",
              "u              0\n",
              "dtype: int64"
            ]
          },
          "metadata": {},
          "execution_count": 19
        }
      ]
    },
    {
      "cell_type": "markdown",
      "source": [
        "Antes de aplicar o pré-processamento, temos que pensar na estratégia de teste, pois o pré-processamento deve ser ajustado apenas na parte de treinamento da base de dados.\n",
        "\n",
        "Começando pela estratégia mais simples: separar uma parte dos dados para teste:"
      ],
      "metadata": {
        "id": "jcBGCdK4PYy-"
      }
    },
    {
      "cell_type": "code",
      "source": [
        "from sklearn.model_selection import train_test_split\n",
        "X_train, X_test, y_train, y_test = train_test_split(X, y)"
      ],
      "metadata": {
        "id": "yppXhP7rTyAy"
      },
      "execution_count": null,
      "outputs": []
    },
    {
      "cell_type": "markdown",
      "source": [
        "Ajustando pré-processamento aos dados de treinamento e aplicando nos dados de treinamento e teste:"
      ],
      "metadata": {
        "id": "GyzJiz-TTyYb"
      }
    },
    {
      "cell_type": "code",
      "source": [
        "from sklearn.preprocessing import StandardScaler\n",
        "scaler = StandardScaler()\n",
        "scaler.fit(X_train)\n",
        "X_train = scaler.transform(X_train)\n",
        "X_test = scaler.transform(X_test)\n",
        "X_train[:5,:]\n",
        "\n",
        "from sklearn.impute import KNNImputer\n",
        "imputer = KNNImputer(n_neighbors = 3)\n",
        "X_train = imputer.fit_transform(X_train)\n",
        "X_test = imputer.transform(X_test)"
      ],
      "metadata": {
        "id": "1zs2dVwaUM9A"
      },
      "execution_count": null,
      "outputs": []
    },
    {
      "cell_type": "markdown",
      "source": [
        "Criando um modelo de classificação utilizando Knn:"
      ],
      "metadata": {
        "id": "UHxbUe5CZGNX"
      }
    },
    {
      "cell_type": "code",
      "source": [
        "from sklearn import neighbors\n",
        "knn = neighbors.KNeighborsRegressor(n_neighbors = 3)\n",
        "knn.fit(X_train, y_train)\n",
        "predicoes = (knn.predict(X_test))"
      ],
      "metadata": {
        "id": "Jz4UjFYG4-YU"
      },
      "execution_count": null,
      "outputs": []
    },
    {
      "cell_type": "code",
      "source": [
        "print(predicoes[:5])\n",
        "print(y_test[:5])"
      ],
      "metadata": {
        "colab": {
          "base_uri": "https://localhost:8080/"
        },
        "id": "kPK1uD8M002K",
        "outputId": "8fb0af78-4e6a-430b-d8ba-a6af9f2b8288"
      },
      "execution_count": null,
      "outputs": [
        {
          "output_type": "stream",
          "name": "stdout",
          "text": [
            "[770833.33333333 632833.33333333 782333.33333333 663000.\n",
            " 879000.        ]\n",
            "6810     805000.0\n",
            "9714     602000.0\n",
            "12070    821000.0\n",
            "7906     901000.0\n",
            "1327     800000.0\n",
            "Name: Price, dtype: float64\n"
          ]
        }
      ]
    },
    {
      "cell_type": "markdown",
      "source": [
        "Ajustando o modelo aos dados de treinamento e testando nos dados de teste:"
      ],
      "metadata": {
        "id": "x9lIKv1J5AyN"
      }
    },
    {
      "cell_type": "code",
      "source": [],
      "metadata": {
        "id": "dTnDKzT45JVV"
      },
      "execution_count": null,
      "outputs": []
    },
    {
      "cell_type": "markdown",
      "source": [
        "Dando uma olhada nos rótulos preditos e rótulos reais:"
      ],
      "metadata": {
        "id": "qSoleVAG5Jx6"
      }
    },
    {
      "cell_type": "code",
      "source": [],
      "metadata": {
        "id": "H7dVv05F5OjQ"
      },
      "execution_count": null,
      "outputs": []
    },
    {
      "cell_type": "markdown",
      "source": [
        "Usando uma métrica de avaliação, por exemplo, Mean Absolute Error: $MAE = \\frac{\\sum_{i=1}^{n}|y_i-p_i|}{n}$"
      ],
      "metadata": {
        "id": "BBqj1N196rHX"
      }
    },
    {
      "cell_type": "code",
      "source": [],
      "metadata": {
        "id": "uHvhT_HP9hsN"
      },
      "execution_count": null,
      "outputs": []
    },
    {
      "cell_type": "markdown",
      "source": [
        "Separar a base de dados uma vez em treinamento e teste pode não refletir a real qualidade do modelo.\n",
        "\n",
        "Utilizando a técnica *cross-validation* podemos obter uma medida de avaliação baseada no treinamento e teste com toda a base de dados, da seguinte maneira (ilustração com 4 *folds*, ou seja, dividindo a base de dados em 4 partes):\n",
        "\n",
        "[---------Base de dados----------]\n",
        "\n",
        "[**teste** ][treino][treino][treino] (Experimento 1)\n",
        "\n",
        "[treino][**teste** ][treino][treino] (Experimento 2)\n",
        "\n",
        "[treino][treino][**teste** ][treino] (Experimento 3)\n",
        "\n",
        "[treino][treino][treino][**teste** ] (Experimento 4)\n",
        "\n",
        "A medida de avaliação final é dada como a média das medidas obtidas em todos os experimentos.\n",
        "\n",
        "A ferramenta cross_val_score pode separar a base de dados e realizar um experimento com cada combinação de *folds* de treino e teste. Porém, é interessante criar os *folds* antes e passa-los como parâmetro para o cross_val_score. Isso permitirá que usemos a mesma divisão da base de dados em experimentos diferentes, tornando a comparação mais justa e confiável."
      ],
      "metadata": {
        "id": "HtwidHuN_jWh"
      }
    },
    {
      "cell_type": "markdown",
      "source": [
        "Criando os *folds*:"
      ],
      "metadata": {
        "id": "Ysh2rll0QSz9"
      }
    },
    {
      "cell_type": "code",
      "source": [],
      "metadata": {
        "id": "P8-tkxOFIx-U"
      },
      "execution_count": null,
      "outputs": []
    },
    {
      "cell_type": "markdown",
      "source": [
        "Como o cross-val-score vai executar o experimento para as combinações de treinamento e teste das partes da base de dados e o pré-processamento deve ser ajustado na parte de treinamento e aplicado em ambas as partes, podemos criar uma sequência de procedimentos *pipeline* para ser aplicada em cada experimento:"
      ],
      "metadata": {
        "id": "bWwlefhcQwF6"
      }
    },
    {
      "cell_type": "markdown",
      "source": [
        "Rodando o *cross-validation* com o *pipeline* criado acima:"
      ],
      "metadata": {
        "id": "bWvy9kvIQcfl"
      }
    },
    {
      "cell_type": "code",
      "source": [],
      "metadata": {
        "id": "-0H5-eM_0W9P"
      },
      "execution_count": null,
      "outputs": []
    },
    {
      "cell_type": "markdown",
      "source": [
        "Observando os scores, sua média e desvio-padrão:"
      ],
      "metadata": {
        "id": "lIP0af240Xpx"
      }
    },
    {
      "cell_type": "code",
      "source": [],
      "metadata": {
        "id": "k3mDcFQY0b6A"
      },
      "execution_count": null,
      "outputs": []
    },
    {
      "cell_type": "markdown",
      "source": [
        "Criando uma grade de parâmetros a serem testados:"
      ],
      "metadata": {
        "id": "3ai9N0qH4VtX"
      }
    },
    {
      "cell_type": "code",
      "source": [],
      "metadata": {
        "id": "l7fjDZfr4YV-"
      },
      "execution_count": null,
      "outputs": []
    },
    {
      "cell_type": "markdown",
      "source": [
        "# Atividade\n",
        "* Verificar outros métodos de imputação de valores faltantes:\n",
        " * retirar\n",
        " * média\n",
        " * adicionar coluna indicando se é valor real ou imputado\n",
        "* Outros números de vizinhos: 7, 9...\n",
        "* Árvore de decisão\n",
        " * from sklearn.tree import DecisionTreeRegressor\n",
        " * pré-poda (max_depth, min_samples_leaf, min_samples_split, min_impurity_decrease)"
      ],
      "metadata": {
        "id": "9Iuoov624Ytq"
      }
    }
  ]
}